{
 "cells": [
  {
   "cell_type": "code",
   "id": "initial_id",
   "metadata": {
    "collapsed": true,
    "ExecuteTime": {
     "end_time": "2024-11-07T13:19:56.677403Z",
     "start_time": "2024-11-07T13:19:56.673510Z"
    }
   },
   "source": [
    "import pandas as pd\n",
    "import networkx as nx\n",
    "import matplotlib.pyplot as plt\n",
    "import seaborn as sns\n",
    "import numpy as np"
   ],
   "outputs": [],
   "execution_count": 2
  },
  {
   "metadata": {
    "ExecuteTime": {
     "end_time": "2024-11-07T13:25:29.091226Z",
     "start_time": "2024-11-07T13:25:28.994926Z"
    }
   },
   "cell_type": "code",
   "source": [
    "# Load the data\n",
    "g = nx.read_adjlist('data/openflights.dl')\n",
    "\n",
    "# Print the number of nodes and edges\n",
    "print(f'Number of nodes: {g.number_of_nodes()}')\n",
    "print(f'Number of edges: {g.number_of_edges()}')"
   ],
   "id": "2de738ebaaf65456",
   "outputs": [
    {
     "name": "stdout",
     "output_type": "stream",
     "text": [
      "Number of nodes: 2944\n",
      "Number of edges: 20683\n"
     ]
    }
   ],
   "execution_count": 10
  }
 ],
 "metadata": {
  "kernelspec": {
   "display_name": "Python 3",
   "language": "python",
   "name": "python3"
  },
  "language_info": {
   "codemirror_mode": {
    "name": "ipython",
    "version": 2
   },
   "file_extension": ".py",
   "mimetype": "text/x-python",
   "name": "python",
   "nbconvert_exporter": "python",
   "pygments_lexer": "ipython2",
   "version": "2.7.6"
  }
 },
 "nbformat": 4,
 "nbformat_minor": 5
}
